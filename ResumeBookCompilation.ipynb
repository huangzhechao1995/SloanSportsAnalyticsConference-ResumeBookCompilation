{
 "cells": [
  {
   "cell_type": "code",
   "execution_count": 8,
   "metadata": {},
   "outputs": [],
   "source": [
    "import numpy as np\n",
    "import pandas as pd\n",
    "import requests\n",
    "import os\n",
    "from PyPDF2 import PdfFileMerger\n",
    "import PyPDF2"
   ]
  },
  {
   "cell_type": "code",
   "execution_count": 2,
   "metadata": {},
   "outputs": [],
   "source": [
    "csvfile=pd.read_csv('2019-resume-submission-form-career-opportunities-registration-2019-02-21.csv')"
   ]
  },
  {
   "cell_type": "code",
   "execution_count": 3,
   "metadata": {},
   "outputs": [],
   "source": [
    "columnReplace={\n",
    "    'Name (First)':'First Name',\n",
    "'Name (Middle Initial)':'Middle Initial',\n",
    "'Name (Last)':\"Last Name\",\n",
    "'Address (State / Province)':'State / Province',\n",
    "'Address (Country)':'Country'\n",
    "}\n",
    "csvfile=csvfile.rename(columnReplace, axis=1)\n",
    "\n",
    "Group={}\n",
    "notorganizer=['Olivo','Georgatos','Bradley','Overstreet','Suder','Flores']\n",
    "isOrganizer=[]\n",
    "for idx, row in csvfile.iterrows():\n",
    "    if ('mit' in str(row['Current Company or School']).lower()) and (row['Student / Professional Status']=='Grad Student') and (row['Last Name'] not in str(notorganizer)):\n",
    "        isOrganizer.append(1)\n",
    "    else:\n",
    "        isOrganizer.append(0)\n",
    "\n",
    "csvfile['isOrganizer']=isOrganizer\n",
    "\n",
    "\n",
    "\n",
    "\n",
    "#csvfile=csvfile.drop(['Payment Amount','Payment Status'],axis=1)\n",
    "colname=csvfile.columns\n",
    "colname=[x[:-2]+'(NE)' if x[-2:]=='.1' else x for x in colname]\n",
    "csvfile.columns=colname\n",
    "csvfile.groupby('Student / Professional Status').count()\n",
    "                                                    \n",
    "Group['CO']=csvfile[np.logical_and(csvfile['Student / Professional Status']=='Grad Student', csvfile['isOrganizer']==1)]\n",
    "Group['US']=csvfile[csvfile['Student / Professional Status']=='College Student']\n",
    "Group['GS']=csvfile[np.logical_and(csvfile['Student / Professional Status']=='Grad Student', csvfile['isOrganizer']==0)]\n",
    "Group['HS']=csvfile[csvfile['Student / Professional Status']=='High School Student']\n",
    "Group['CP']=csvfile[csvfile['Student / Professional Status']=='In the Workforce']"
   ]
  },
  {
   "cell_type": "code",
   "execution_count": 4,
   "metadata": {},
   "outputs": [
    {
     "data": {
      "text/plain": [
       "16"
      ]
     },
     "execution_count": 4,
     "metadata": {},
     "output_type": "execute_result"
    }
   ],
   "source": [
    "sum(isOrganizer)"
   ]
  },
  {
   "cell_type": "code",
   "execution_count": 5,
   "metadata": {},
   "outputs": [
    {
     "data": {
      "text/plain": [
       "'Wade'"
      ]
     },
     "execution_count": 5,
     "metadata": {},
     "output_type": "execute_result"
    }
   ],
   "source": [
    "row['Last Name']"
   ]
  },
  {
   "cell_type": "code",
   "execution_count": 6,
   "metadata": {},
   "outputs": [
    {
     "name": "stdout",
     "output_type": "stream",
     "text": [
      "Category CO\n",
      "(16, 42)\n",
      "(16, 42)\n",
      "Category US\n",
      "(181, 42)\n",
      "(179, 42)\n",
      "Category GS\n",
      "(252, 42)\n",
      "(251, 42)\n",
      "Category HS\n",
      "(9, 42)\n",
      "(9, 42)\n",
      "Category CP\n",
      "(88, 42)\n",
      "(85, 42)\n"
     ]
    },
    {
     "name": "stderr",
     "output_type": "stream",
     "text": [
      "C:\\Users\\huang\\Anaconda3\\lib\\site-packages\\ipykernel_launcher.py:10: SettingWithCopyWarning: \n",
      "A value is trying to be set on a copy of a slice from a DataFrame.\n",
      "Try using .loc[row_indexer,col_indexer] = value instead\n",
      "\n",
      "See the caveats in the documentation: http://pandas.pydata.org/pandas-docs/stable/indexing.html#indexing-view-versus-copy\n",
      "  # Remove the CWD from sys.path while we load stuff.\n"
     ]
    }
   ],
   "source": [
    "dfList=[]\n",
    "blackList=['ankurverma','shaileeshah','spencerhook','danielbyrne','danielworth','yifeihu']\n",
    "for key, gp in Group.items():\n",
    "    #if key in ['US','HS','CP']:\n",
    "        #continue\n",
    "    print('Category {}'.format(key))\n",
    "    if not os.path.isdir('..\\Resume Book\\{}'.format(key)):\n",
    "        os.mkdir('..\\Resume Book\\{}'.format(key))\n",
    "    gp=gp.drop_duplicates(subset=['First Name','Last Name','Email Address'])    \n",
    "    gp['lowercase name']=[(x+y).lower() for x,y in zip(gp['First Name'],gp['Last Name'])]\n",
    "    print(gp.shape)\n",
    "    gp=gp[gp['lowercase name'].apply(lambda x: True if x not in blackList else False)]\n",
    "    print(gp.shape)\n",
    "    gp=gp.sort_values(['lowercase name'])\n",
    "    gp['ResumeBookId']=np.array(range(1,len(gp)+1))\n",
    "    gp['Group']=key\n",
    "    \"\"\"\n",
    "    for idx, row in gp.iterrows():\n",
    "        url = row['Resume Submission']\n",
    "        name= row['First Name']+row['Last Name']+str(row['ResumeBookId'])\n",
    "        r = requests.get(url, allow_redirects=True)\n",
    "        open('..\\Resume Book\\{}\\{}.pdf'.format(key,name), 'wb').write(r.content)\n",
    "    \"\"\"\n",
    "    dfList.append(gp)"
   ]
  },
  {
   "cell_type": "code",
   "execution_count": 6,
   "metadata": {},
   "outputs": [
    {
     "name": "stdout",
     "output_type": "stream",
     "text": [
      "Current Category: CO\n"
     ]
    },
    {
     "name": "stderr",
     "output_type": "stream",
     "text": [
      "PdfReadWarning: Superfluous whitespace found in object header b'1' b'0' [pdf.py:1666]\n",
      "PdfReadWarning: Superfluous whitespace found in object header b'2' b'0' [pdf.py:1666]\n",
      "PdfReadWarning: Superfluous whitespace found in object header b'3' b'0' [pdf.py:1666]\n",
      "PdfReadWarning: Superfluous whitespace found in object header b'52' b'0' [pdf.py:1666]\n",
      "PdfReadWarning: Superfluous whitespace found in object header b'53' b'0' [pdf.py:1666]\n",
      "PdfReadWarning: Superfluous whitespace found in object header b'11' b'0' [pdf.py:1666]\n",
      "PdfReadWarning: Superfluous whitespace found in object header b'4' b'0' [pdf.py:1666]\n",
      "PdfReadWarning: Superfluous whitespace found in object header b'5' b'0' [pdf.py:1666]\n",
      "PdfReadWarning: Superfluous whitespace found in object header b'6' b'0' [pdf.py:1666]\n",
      "PdfReadWarning: Superfluous whitespace found in object header b'8' b'0' [pdf.py:1666]\n",
      "PdfReadWarning: Superfluous whitespace found in object header b'7' b'0' [pdf.py:1666]\n",
      "PdfReadWarning: Superfluous whitespace found in object header b'9' b'0' [pdf.py:1666]\n",
      "PdfReadWarning: Superfluous whitespace found in object header b'10' b'0' [pdf.py:1666]\n",
      "PdfReadWarning: Superfluous whitespace found in object header b'19' b'0' [pdf.py:1666]\n",
      "PdfReadWarning: Superfluous whitespace found in object header b'12' b'0' [pdf.py:1666]\n",
      "PdfReadWarning: Superfluous whitespace found in object header b'13' b'0' [pdf.py:1666]\n",
      "PdfReadWarning: Superfluous whitespace found in object header b'14' b'0' [pdf.py:1666]\n",
      "PdfReadWarning: Superfluous whitespace found in object header b'16' b'0' [pdf.py:1666]\n",
      "PdfReadWarning: Superfluous whitespace found in object header b'15' b'0' [pdf.py:1666]\n",
      "PdfReadWarning: Superfluous whitespace found in object header b'17' b'0' [pdf.py:1666]\n",
      "PdfReadWarning: Superfluous whitespace found in object header b'18' b'0' [pdf.py:1666]\n",
      "PdfReadWarning: Superfluous whitespace found in object header b'27' b'0' [pdf.py:1666]\n",
      "PdfReadWarning: Superfluous whitespace found in object header b'20' b'0' [pdf.py:1666]\n",
      "PdfReadWarning: Superfluous whitespace found in object header b'21' b'0' [pdf.py:1666]\n",
      "PdfReadWarning: Superfluous whitespace found in object header b'22' b'0' [pdf.py:1666]\n",
      "PdfReadWarning: Superfluous whitespace found in object header b'24' b'0' [pdf.py:1666]\n",
      "PdfReadWarning: Superfluous whitespace found in object header b'23' b'0' [pdf.py:1666]\n",
      "PdfReadWarning: Superfluous whitespace found in object header b'25' b'0' [pdf.py:1666]\n",
      "PdfReadWarning: Superfluous whitespace found in object header b'26' b'0' [pdf.py:1666]\n",
      "PdfReadWarning: Superfluous whitespace found in object header b'35' b'0' [pdf.py:1666]\n",
      "PdfReadWarning: Superfluous whitespace found in object header b'28' b'0' [pdf.py:1666]\n",
      "PdfReadWarning: Superfluous whitespace found in object header b'29' b'0' [pdf.py:1666]\n",
      "PdfReadWarning: Superfluous whitespace found in object header b'30' b'0' [pdf.py:1666]\n",
      "PdfReadWarning: Superfluous whitespace found in object header b'32' b'0' [pdf.py:1666]\n",
      "PdfReadWarning: Superfluous whitespace found in object header b'31' b'0' [pdf.py:1666]\n",
      "PdfReadWarning: Superfluous whitespace found in object header b'33' b'0' [pdf.py:1666]\n",
      "PdfReadWarning: Superfluous whitespace found in object header b'34' b'0' [pdf.py:1666]\n",
      "PdfReadWarning: Superfluous whitespace found in object header b'43' b'0' [pdf.py:1666]\n",
      "PdfReadWarning: Superfluous whitespace found in object header b'36' b'0' [pdf.py:1666]\n",
      "PdfReadWarning: Superfluous whitespace found in object header b'37' b'0' [pdf.py:1666]\n",
      "PdfReadWarning: Superfluous whitespace found in object header b'38' b'0' [pdf.py:1666]\n",
      "PdfReadWarning: Superfluous whitespace found in object header b'40' b'0' [pdf.py:1666]\n",
      "PdfReadWarning: Superfluous whitespace found in object header b'39' b'0' [pdf.py:1666]\n",
      "PdfReadWarning: Superfluous whitespace found in object header b'41' b'0' [pdf.py:1666]\n",
      "PdfReadWarning: Superfluous whitespace found in object header b'42' b'0' [pdf.py:1666]\n",
      "PdfReadWarning: Superfluous whitespace found in object header b'51' b'0' [pdf.py:1666]\n",
      "PdfReadWarning: Superfluous whitespace found in object header b'44' b'0' [pdf.py:1666]\n",
      "PdfReadWarning: Superfluous whitespace found in object header b'45' b'0' [pdf.py:1666]\n",
      "PdfReadWarning: Superfluous whitespace found in object header b'46' b'0' [pdf.py:1666]\n",
      "PdfReadWarning: Superfluous whitespace found in object header b'48' b'0' [pdf.py:1666]\n",
      "PdfReadWarning: Superfluous whitespace found in object header b'47' b'0' [pdf.py:1666]\n",
      "PdfReadWarning: Superfluous whitespace found in object header b'49' b'0' [pdf.py:1666]\n",
      "PdfReadWarning: Superfluous whitespace found in object header b'50' b'0' [pdf.py:1666]\n"
     ]
    },
    {
     "name": "stdout",
     "output_type": "stream",
     "text": [
      "18 pdf merged\n"
     ]
    }
   ],
   "source": [
    "###Merging\n",
    "\n",
    "def merger_pdf(pdf_dir,key):\n",
    "    merger = PdfFileMerger()\n",
    "    file_list = os.listdir(pdf_dir)\n",
    "    flag=0\n",
    "    count=0\n",
    "    for file_name in file_list:\n",
    "        #print(pdf_dir + file_name)      \n",
    "        \n",
    "        \"\"\"if 'Ankur' in file_name:\n",
    "            flag=1\n",
    "            continue\n",
    "        if flag==0:\n",
    "            continue\n",
    "        if 'YifeiHu' in file_name:\n",
    "            break\"\"\"\n",
    "        input_pdf = open(pdf_dir+file_name, \"rb\")\n",
    "        merger.append(input_pdf)\n",
    "        count=count+1\n",
    "    outputfilename='..\\\\Resume Book\\\\'+key+\"output.pdf\"\n",
    "    output = open(outputfilename, \"wb\")\n",
    "    merger.write(output)\n",
    "    print('{} pdf merged'.format(count))\n",
    "    #merger.encrypt('password')\n",
    "    \n",
    "                 \n",
    "for key, gp in Group.items():\n",
    "    if key not in ['CO']:\n",
    "        continue\n",
    "    print('Current Category: {}'.format(key))\n",
    "    path='..\\\\Resume Book\\\\{}\\\\'.format(key)\n",
    "    merger_pdf(path,key)"
   ]
  },
  {
   "cell_type": "code",
   "execution_count": 11,
   "metadata": {},
   "outputs": [
    {
     "name": "stdout",
     "output_type": "stream",
     "text": [
      "Current Category: HS\n",
      "resultPdf has 11 pages\n"
     ]
    }
   ],
   "source": [
    "def addpassword(pdf_dir,key): \n",
    "    outputfilename='..\\\\Resume Book\\\\'+key+\"output.pdf\"\n",
    "    pdfFile = open(outputfilename, 'rb')\n",
    "    # Create reader and writer object\n",
    "    pdfReader = PyPDF2.PdfFileReader(pdfFile)\n",
    "    pdfWriter = PyPDF2.PdfFileWriter()\n",
    "    # Add all pages to writer (accepted answer results into blank pages)\n",
    "    count=0\n",
    "    for pageNum in range(pdfReader.numPages):\n",
    "        pdfWriter.addPage(pdfReader.getPage(pageNum))\n",
    "        count=count+1\n",
    "    # Encrypt with your password\n",
    "    pdfWriter.encrypt('2019sLoAn')\n",
    "    # Write it to an output file. (you can delete unencrypted version now)\n",
    "    resultPdf = open('..\\\\Resume Book\\\\'+key+\"output_encrypted.pdf\", 'wb')\n",
    "    print('resultPdf has {} pages'.format(count))\n",
    "    pdfWriter.write(resultPdf)\n",
    "    resultPdf.close()\n",
    "    \n",
    "for key, gp in Group.items():\n",
    "    if key not in ['HS']:\n",
    "        continue\n",
    "    print('Current Category: {}'.format(key))\n",
    "    path='..\\\\Resume Book\\\\{}\\\\'.format(key)\n",
    "    addpassword(path,key)"
   ]
  },
  {
   "cell_type": "code",
   "execution_count": 13,
   "metadata": {},
   "outputs": [],
   "source": [
    "merged=pd.concat(dfList)\n",
    "merged=merged.drop(['Resume Submission','isOrganizer','lowercase name'],axis=1)\n",
    "merged['Resume Book ID']=[y+'.'+str(x).zfill(3) for x,y in zip(merged['ResumeBookId'],merged['Group'])]\n",
    "merged=merged.drop(['ResumeBookId','Group'],axis=1)"
   ]
  },
  {
   "cell_type": "code",
   "execution_count": 14,
   "metadata": {},
   "outputs": [],
   "source": [
    "merged.to_excel('ResumeBookDirectory-2019Jan21.xls')"
   ]
  },
  {
   "cell_type": "code",
   "execution_count": null,
   "metadata": {},
   "outputs": [],
   "source": []
  }
 ],
 "metadata": {
  "kernelspec": {
   "display_name": "Python 3",
   "language": "python",
   "name": "python3"
  },
  "language_info": {
   "codemirror_mode": {
    "name": "ipython",
    "version": 3
   },
   "file_extension": ".py",
   "mimetype": "text/x-python",
   "name": "python",
   "nbconvert_exporter": "python",
   "pygments_lexer": "ipython3",
   "version": "3.7.0"
  }
 },
 "nbformat": 4,
 "nbformat_minor": 2
}
